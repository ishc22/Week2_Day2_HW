{
 "cells": [
  {
   "cell_type": "code",
   "execution_count": 5,
   "id": "6946a5ae",
   "metadata": {},
   "outputs": [
    {
     "name": "stdout",
     "output_type": "stream",
     "text": [
      "[1, 5, 8, 9]\n"
     ]
    }
   ],
   "source": [
    "# Use the following list - [1,11,14,5,8,9]\n",
    "# 1589\n",
    "\n",
    "numbers = [1,11,14,5,8,9]\n",
    "#create a new list to store values that are less than 10\n",
    "new_list = []\n",
    "#create a for loop to loop through each value \n",
    "for number in numbers:\n",
    "#if the value of the number being looped is greater than 10 go back to beggining. \n",
    "    if number > 10:\n",
    "        continue\n",
    "#if it's not append to new list.\n",
    "    else:\n",
    "        new_list.append(number)\n",
    "print(new_list)"
   ]
  },
  {
   "cell_type": "code",
   "execution_count": 6,
   "id": "a54e7ed3",
   "metadata": {},
   "outputs": [
    {
     "name": "stdout",
     "output_type": "stream",
     "text": [
      "[1, 5, 8, 9]\n"
     ]
    }
   ],
   "source": [
    "numbers = [1,11,14,5,8,9]\n",
    "new_list = []\n",
    "for number in numbers:\n",
    "    if number < 10:\n",
    "        new_list.append(number)\n",
    "print(new_list)"
   ]
  },
  {
   "cell_type": "code",
   "execution_count": 4,
   "id": "cc05547b",
   "metadata": {},
   "outputs": [
    {
     "name": "stdout",
     "output_type": "stream",
     "text": [
      "[1, 5, 8, 9]\n"
     ]
    }
   ],
   "source": [
    "numbers = [1,11,14,5,8,9]\n",
    "new_list = []\n",
    " # name_of_new_list = [what_im_adding_to_the_list (for) value_in_numbers_list (in) list_name (if) what_im_adding_to_the_list is less than 10] ]\n",
    "list_comp = [number for number in numbers if number < 10]\n",
    "print(list_comp)"
   ]
  },
  {
   "cell_type": "code",
   "execution_count": 53,
   "id": "4361f5b2",
   "metadata": {},
   "outputs": [],
   "source": [
    "# #############################################################################################################"
   ]
  },
  {
   "cell_type": "code",
   "execution_count": 52,
   "id": "64f8fbb1",
   "metadata": {},
   "outputs": [
    {
     "name": "stdout",
     "output_type": "stream",
     "text": [
      "['connor', 'bob', 'evan', 'max', 'kevin']\n"
     ]
    }
   ],
   "source": [
    "#Using list comprehension, create a list of names of 4 letters or more and capitalize each name\n",
    "\n",
    "names1 = ['connor', 'connor', 'bob', 'connor', 'evan', 'max', 'evan', 'bob', 'kevin']\n",
    "\n",
    "# Bonus Challenge\n",
    "names2 = ['connor', 'connor', 'bob', 'connor', 'evan', 'max', 'evan', 2, 2, 2, 3, 3, 4, 'bob', 'kevin']\n",
    "\n",
    "new_name = []\n",
    "for name in names1:\n",
    "    if name not in new_name:\n",
    "        new_name.append(name)\n",
    "print(new_name)"
   ]
  },
  {
   "cell_type": "code",
   "execution_count": 9,
   "id": "51f13535",
   "metadata": {},
   "outputs": [
    {
     "name": "stdout",
     "output_type": "stream",
     "text": [
      "['Connor', 'Connor', 'Connor', 'Evan', 'Evan', 'Kevin']\n"
     ]
    }
   ],
   "source": [
    "#I need to make a new list with words that have 4 letters or more.\n",
    "#Pull each word and get the lenght, if the lenght is 4 or more add it to a new list. \n",
    "#Then cap each word. \n",
    "names1 = ['connor', 'connor', 'bob', 'connor', 'evan', 'max', 'evan', 'bob', 'kevin']\n",
    "\n",
    "new_names = []\n",
    "for name in names1:\n",
    "    if len(name) >= 4:\n",
    "        new_names.append(name.title())\n",
    "print(new_names)"
   ]
  },
  {
   "cell_type": "code",
   "execution_count": 29,
   "id": "2869bdc9",
   "metadata": {},
   "outputs": [
    {
     "name": "stdout",
     "output_type": "stream",
     "text": [
      "['Connor', 'Connor', 'Connor', 'Evan', 'Evan', 'Kevin']\n"
     ]
    }
   ],
   "source": [
    "names1 = ['connor', 'connor', 'bob', 'connor', 'evan', 'max', 'evan', 'bob', 'kevin']\n",
    "\n",
    "new_names_comp = [name.title() for name in names1 if len(name) >= 4]\n",
    "print(new_names_comp)"
   ]
  },
  {
   "cell_type": "code",
   "execution_count": 61,
   "id": "0a137042",
   "metadata": {},
   "outputs": [
    {
     "name": "stdout",
     "output_type": "stream",
     "text": [
      "['Connor', 'Evan', 'Kevin']\n"
     ]
    }
   ],
   "source": [
    "names1 = ['connor', 'connor', 'bob', 'connor', 'evan', 'max', 'evan', 'bob', 'kevin']\n",
    "new_names = []\n",
    "for name in names1:\n",
    "    if name not in new_names:\n",
    "        new_names.append(name)\n",
    "        \n",
    "new_names_comp = [name.title() for name in new_names if len(name) >= 4]\n",
    "print(new_names_comp)"
   ]
  },
  {
   "cell_type": "code",
   "execution_count": 67,
   "id": "4e5eba7c",
   "metadata": {},
   "outputs": [],
   "source": [
    "# #############################################################################################################"
   ]
  },
  {
   "cell_type": "code",
   "execution_count": 38,
   "id": "11a78c86",
   "metadata": {},
   "outputs": [
    {
     "name": "stdout",
     "output_type": "stream",
     "text": [
      "['Connor', 'Connor', 'Connor', 'Evan', 'Evan', 'Kevin']\n"
     ]
    }
   ],
   "source": [
    "names2 = ['connor', 'connor', 'bob', 'connor', 'evan', 'max', 'evan', 2, 2, 2, 3, 3, 4, 'bob', 'kevin']\n",
    "new_names = []\n",
    "for name in names2:\n",
    "    try:\n",
    "        if len(name) >= 4:\n",
    "            new_names.append(name.title())\n",
    "    except:\n",
    "        continue\n",
    "print(new_names)"
   ]
  },
  {
   "cell_type": "code",
   "execution_count": 47,
   "id": "c9057761",
   "metadata": {},
   "outputs": [
    {
     "name": "stdout",
     "output_type": "stream",
     "text": [
      "['Connor', 'Connor', 'Connor', 'Evan', 'Evan', 'Kevin']\n"
     ]
    }
   ],
   "source": [
    "names2 = ['connor', 'connor', 'bob', 'connor', 'evan', 'max', 'evan', 2, 2, 2, 3, 3, 4, 'bob', 'kevin']\n",
    "new_names = []\n",
    "for name in names2:\n",
    "    if isinstance(name, str) and len(name) >= 4:\n",
    "        new_names.append(name.title())\n",
    "print(new_names)\n",
    "\n"
   ]
  },
  {
   "cell_type": "code",
   "execution_count": 43,
   "id": "60c47160",
   "metadata": {},
   "outputs": [
    {
     "name": "stdout",
     "output_type": "stream",
     "text": [
      "['Connor', 'Connor', 'Connor', 'Evan', 'Evan', 'Kevin']\n"
     ]
    }
   ],
   "source": [
    "names2 = ['connor', 'connor', 'bob', 'connor', 'evan', 'max', 'evan', 2, 2, 2, 3, 3, 4, 'bob', 'kevin']\n",
    "\n",
    "new_name_comp = [name.title() for name in names2 if isinstance(name, str) and len(name) >=4]\n",
    "\n",
    "print(new_name)\n"
   ]
  },
  {
   "cell_type": "code",
   "execution_count": 69,
   "id": "199e2b23",
   "metadata": {},
   "outputs": [
    {
     "name": "stdout",
     "output_type": "stream",
     "text": [
      "['Connor', 'Evan', 'Kevin']\n"
     ]
    }
   ],
   "source": [
    "names2 = ['connor', 'connor', 'bob', 'connor', 'evan', 'max', 'evan', 2, 2, 2, 3, 3, 4, 'bob', 'kevin']\n",
    "\n",
    "new_names = []\n",
    "for name in names2:\n",
    "    if name not in new_names:\n",
    "        new_names.append(name)\n",
    "\n",
    "new_name_comp = [name.title() for name in new_names if isinstance(name, str) and len(name) >=4]\n",
    "print(new_name_comp)"
   ]
  },
  {
   "cell_type": "code",
   "execution_count": null,
   "id": "5b1033ee",
   "metadata": {},
   "outputs": [],
   "source": []
  }
 ],
 "metadata": {
  "kernelspec": {
   "display_name": "Python 3 (ipykernel)",
   "language": "python",
   "name": "python3"
  },
  "language_info": {
   "codemirror_mode": {
    "name": "ipython",
    "version": 3
   },
   "file_extension": ".py",
   "mimetype": "text/x-python",
   "name": "python",
   "nbconvert_exporter": "python",
   "pygments_lexer": "ipython3",
   "version": "3.9.13"
  }
 },
 "nbformat": 4,
 "nbformat_minor": 5
}
